{
 "cells": [
  {
   "cell_type": "code",
   "execution_count": 12,
   "outputs": [],
   "source": [
    "import os\n",
    "import random\n",
    "\n",
    "import numpy as np\n",
    "import pandas as pd\n",
    "import paddle\n",
    "\n",
    "import common\n",
    "import MovieLensModel\n",
    "import DataManager"
   ],
   "metadata": {
    "collapsed": false,
    "ExecuteTime": {
     "end_time": "2023-10-22T12:19:01.826656900Z",
     "start_time": "2023-10-22T12:19:01.818683200Z"
    }
   },
   "id": "14d1d48ee3737e84"
  },
  {
   "cell_type": "code",
   "execution_count": 13,
   "outputs": [],
   "source": [
    "# dataset_path = '../datasets/movie_lens/ml-1m/'\n",
    "# \n",
    "# user_data = None\n",
    "# with open(os.path.join(dataset_path, 'users.dat'), 'r') as f:\n",
    "#     user_data = f.readlines()\n",
    "# \n",
    "# # user data processing\n",
    "# user_info = dict()\n",
    "# max_user_id = 0\n",
    "# for item in user_data:\n",
    "#     item = item.strip().split('::')\n",
    "#     user_id = int(item[0])\n",
    "#     user_info[user_id] = {\n",
    "#         'user_id': int(user_id),\n",
    "#         'gender': 0 if item[1] == 'M' else 1,\n",
    "#         'age': int(item[2]),\n",
    "#         'occupation': item[3]\n",
    "#     }\n",
    "#     max_user_id = max(max_user_id, int(user_id))\n",
    "# \n",
    "# movie_info = dict()\n",
    "# \n",
    "# max_title_length = 0\n",
    "# title_word_id = dict()\n",
    "# current_word_id = 1\n",
    "# \n",
    "# max_category_length = 0\n",
    "# category_id = dict()\n",
    "# current_category_id = 1\n",
    "# \n",
    "# # movie data processing\n",
    "# with open(os.path.join(dataset_path, 'movies.dat'), 'r', encoding='ISO-8859-1') as f:\n",
    "#     movie_data = f.readlines()\n",
    "# \n",
    "# for item in movie_data:\n",
    "#     item = item.strip().split('::')\n",
    "#     movie_id = int(item[0])\n",
    "#     words_in_title = item[1][:-7].split(' ')\n",
    "#     max_title_length = max(max_title_length, len(words_in_title))\n",
    "#     movie_year = int(item[1][-5:-1])\n",
    "#     movie_categories = item[2].split('|')\n",
    "#     max_category_length = max(max_category_length, len(movie_categories))\n",
    "# \n",
    "#     for word in words_in_title:\n",
    "#         if word not in title_word_id:\n",
    "#             title_word_id[word] = current_word_id\n",
    "#             current_word_id += 1\n",
    "# \n",
    "#     for category in movie_categories:\n",
    "#         if category not in category_id:\n",
    "#             category_id[category] = current_category_id\n",
    "#             current_category_id += 1\n",
    "# \n",
    "#     movie_title = [title_word_id[word] for word in words_in_title]\n",
    "#     while len(movie_title) < 15:\n",
    "#         movie_title.append(0)\n",
    "#     movie_category = [category_id[category] for category in movie_categories]\n",
    "#     while len(movie_category) < 6:\n",
    "#         movie_category.append(0)\n",
    "# \n",
    "#     movie_info[movie_id] = {\n",
    "#         'movie_id': movie_id,\n",
    "#         'title': movie_title,\n",
    "#         'year': movie_year,\n",
    "#         'categories': movie_category\n",
    "#     }\n",
    "# \n",
    "# # rating info processing\n",
    "# with open(os.path.join(dataset_path, 'ratings.dat'), 'r') as f:\n",
    "#     rating_data = f.readlines()\n",
    "# rating_info = dict()\n",
    "# for item in rating_data:\n",
    "#     item = item.strip().split('::')\n",
    "#     user_id, movie_id, rating = int(item[0]), int(item[1]), float(item[2])\n",
    "#     if user_id not in rating_info.keys():\n",
    "#         rating_info[user_id] = {movie_id: rating}\n",
    "#     else:\n",
    "#         rating_info[user_id][movie_id] = rating\n",
    "# dataset=list()\n",
    "# \n",
    "# for user_id in rating_info.keys():\n",
    "# \n",
    "#     for movie_id in rating_info[user_id]:\n",
    "#         dataset.append({\n",
    "#             'user_info':user_info[user_id],\n",
    "#             'movie_info':movie_info[movie_id],\n",
    "#             'rating':rating_info[user_id][movie_id]\n",
    "#         })\n",
    "\n",
    "# train_size=0.8\n",
    "# \n",
    "# train_set=dataset[:int(train_size*len(dataset))]\n",
    "# valid_set=dataset[int(train_size*len(dataset)):]\n",
    "# \n",
    "# train_loader=common.load_data(train_set)\n",
    "# valid_loader=common.load_data(valid_set)\n",
    "\n",
    "\n",
    "# train_set_df=pd.DataFrame(train_set)\n",
    "# user_info_df=train_set_df['user_info'].apply(pd.Series)\n",
    "# movie_info_df=train_set_df['movie_info'].apply(pd.Series)\n",
    "# train_set_df_2=pd.concat([user_info_df,movie_info_df,train_set_df['rating']],axis=1)\n",
    "# train_set_df_2.to_hdf('../datasets/movie_lens/ml-1m/concat.h5',key='df',mode='w')\n",
    "# train_set_df_2.to_csv('../datasets/movie_lens/ml-1m/concat.csv',index=False)\n",
    "\n",
    "# user_id_ts=paddle.to_tensor(np.array(train_set_df['user_id']),dtype=paddle.int64)\n",
    "# user_gender_ts=paddle.to_tensor(np.array(train_set_df['gender']),dtype=paddle.int64)\n",
    "# user_age_ts=paddle.to_tensor(np.array(train_set_df['age']),dtype=paddle.int64)\n",
    "# user_occupation_ts=paddle.to_tensor(np.array(train_set_df['occupation']),dtype=paddle.int64)\n",
    "\n",
    "# # embedding original features\n",
    "# # user ID\n",
    "# user_id_feat=user_id_embedding(user_id_ts)\n",
    "# user_id_feat=user_id_linear(user_id_feat)\n",
    "# user_id_feat=paddle.nn.functional.relu(user_id_feat)\n",
    "# # user gender\n",
    "# user_gender_feat=user_gender_embedding(user_gender_ts)\n",
    "# user_gender_feat=user_gender_linear(user_gender_feat)\n",
    "# user_gender_feat=paddle.nn.functional.relu(user_gender_feat)\n",
    "# \n",
    "# # user age\n",
    "# user_age_feat=user_age_embedding(user_age_ts)\n",
    "# user_age_feat=user_age_linear(user_age_feat)\n",
    "# user_age_feat=paddle.nn.functional.relu(user_age_feat)\n",
    "# \n",
    "# # user occupation\n",
    "# user_occupation_feat=user_occupation_embedding(user_occupation_ts)\n",
    "# user_occupation_feat=user_occupation_linear(user_occupation_feat)\n",
    "# user_occupation_feat=paddle.nn.functional.relu(user_occupation_feat)\n",
    "# \n",
    "# print(f'embedded dimensionality:\\nuser id: {user_id_feat.shape}, user gender: {user_gender_feat.shape}\\\n",
    "# , user age: {user_age_feat.shape}, user occupation: {user_occupation_feat.shape}')\n",
    "# \n",
    "# user_feat_list=[user_id_feat,user_gender_feat,user_age_feat,user_occupation_feat]\n",
    "# user_feat_df=paddle.concat(user_feat_list,axis=1)\n",
    "# user_feat_list=[user_id_feat,user_gender_feat,user_age_feat,user_occupation_feat]\n",
    "# user_feat_df=paddle.concat(user_feat_list,axis=1)\n",
    "# user_combine_linear=paddle.nn.Linear(in_features=80,out_features=200)\n",
    "# user_feat_df=user_combine_linear(user_feat_df)"
   ],
   "metadata": {
    "collapsed": false,
    "ExecuteTime": {
     "end_time": "2023-10-22T12:19:01.855870800Z",
     "start_time": "2023-10-22T12:19:01.827653500Z"
    }
   },
   "id": "a67d4da2c4b24ab5"
  },
  {
   "cell_type": "code",
   "execution_count": 14,
   "outputs": [
    {
     "data": {
      "text/plain": "   user_id  gender  age  occupation  movie_id  \\\n0        1       1    1          10      1193   \n1        1       1    1          10       661   \n2        1       1    1          10       914   \n3        1       1    1          10      3408   \n4        1       1    1          10      2355   \n\n                                               title  year  \\\n0  [1146, 2076, 709, 12, 2077, 2078, 0, 0, 0, 0, ...  1975   \n1  [1249, 19, 12, 1250, 1251, 0, 0, 0, 0, 0, 0, 0...  1996   \n2  [563, 165, 1502, 0, 0, 0, 0, 0, 0, 0, 0, 0, 0,...  1964   \n3  [4649, 4650, 0, 0, 0, 0, 0, 0, 0, 0, 0, 0, 0, ...  2000   \n4  [3409, 1367, 451, 0, 0, 0, 0, 0, 0, 0, 0, 0, 0...  1998   \n\n            categories  rating  \n0   [7, 0, 0, 0, 0, 0]     5.0  \n1  [1, 2, 15, 0, 0, 0]     3.0  \n2  [15, 6, 0, 0, 0, 0]     3.0  \n3   [7, 0, 0, 0, 0, 0]     4.0  \n4   [1, 2, 3, 0, 0, 0]     5.0  ",
      "text/html": "<div>\n<style scoped>\n    .dataframe tbody tr th:only-of-type {\n        vertical-align: middle;\n    }\n\n    .dataframe tbody tr th {\n        vertical-align: top;\n    }\n\n    .dataframe thead th {\n        text-align: right;\n    }\n</style>\n<table border=\"1\" class=\"dataframe\">\n  <thead>\n    <tr style=\"text-align: right;\">\n      <th></th>\n      <th>user_id</th>\n      <th>gender</th>\n      <th>age</th>\n      <th>occupation</th>\n      <th>movie_id</th>\n      <th>title</th>\n      <th>year</th>\n      <th>categories</th>\n      <th>rating</th>\n    </tr>\n  </thead>\n  <tbody>\n    <tr>\n      <th>0</th>\n      <td>1</td>\n      <td>1</td>\n      <td>1</td>\n      <td>10</td>\n      <td>1193</td>\n      <td>[1146, 2076, 709, 12, 2077, 2078, 0, 0, 0, 0, ...</td>\n      <td>1975</td>\n      <td>[7, 0, 0, 0, 0, 0]</td>\n      <td>5.0</td>\n    </tr>\n    <tr>\n      <th>1</th>\n      <td>1</td>\n      <td>1</td>\n      <td>1</td>\n      <td>10</td>\n      <td>661</td>\n      <td>[1249, 19, 12, 1250, 1251, 0, 0, 0, 0, 0, 0, 0...</td>\n      <td>1996</td>\n      <td>[1, 2, 15, 0, 0, 0]</td>\n      <td>3.0</td>\n    </tr>\n    <tr>\n      <th>2</th>\n      <td>1</td>\n      <td>1</td>\n      <td>1</td>\n      <td>10</td>\n      <td>914</td>\n      <td>[563, 165, 1502, 0, 0, 0, 0, 0, 0, 0, 0, 0, 0,...</td>\n      <td>1964</td>\n      <td>[15, 6, 0, 0, 0, 0]</td>\n      <td>3.0</td>\n    </tr>\n    <tr>\n      <th>3</th>\n      <td>1</td>\n      <td>1</td>\n      <td>1</td>\n      <td>10</td>\n      <td>3408</td>\n      <td>[4649, 4650, 0, 0, 0, 0, 0, 0, 0, 0, 0, 0, 0, ...</td>\n      <td>2000</td>\n      <td>[7, 0, 0, 0, 0, 0]</td>\n      <td>4.0</td>\n    </tr>\n    <tr>\n      <th>4</th>\n      <td>1</td>\n      <td>1</td>\n      <td>1</td>\n      <td>10</td>\n      <td>2355</td>\n      <td>[3409, 1367, 451, 0, 0, 0, 0, 0, 0, 0, 0, 0, 0...</td>\n      <td>1998</td>\n      <td>[1, 2, 3, 0, 0, 0]</td>\n      <td>5.0</td>\n    </tr>\n  </tbody>\n</table>\n</div>"
     },
     "execution_count": 14,
     "metadata": {},
     "output_type": "execute_result"
    }
   ],
   "source": [
    "train_set_df=pd.read_csv('../datasets/movie_lens/ml-1m/concat.csv')\n",
    "train_set_df.head()"
   ],
   "metadata": {
    "collapsed": false,
    "ExecuteTime": {
     "end_time": "2023-10-22T12:19:02.360184700Z",
     "start_time": "2023-10-22T12:19:01.842910Z"
    }
   },
   "id": "eb851a89c9be1f8a"
  },
  {
   "cell_type": "code",
   "execution_count": 15,
   "outputs": [],
   "source": [
    "# user_model=MovieLensModel.UserModel()\n",
    "# user_feat=user_model.forward(train_set_df)"
   ],
   "metadata": {
    "collapsed": false,
    "ExecuteTime": {
     "end_time": "2023-10-22T12:19:02.378783500Z",
     "start_time": "2023-10-22T12:19:02.361176500Z"
    }
   },
   "id": "b57bab04272f8195"
  },
  {
   "cell_type": "code",
   "execution_count": 16,
   "outputs": [],
   "source": [
    "# movie_title_ts=paddle.to_tensor(train_set_df['title'].apply(lambda x:eval(x)).apply(lambda x:paddle.to_tensor(x)).tolist())\n",
    "# paddle.save(movie_title_ts,'../datasets/movie_lens/ml-1m/movie_title_ts.pdparams')\n"
   ],
   "metadata": {
    "collapsed": false,
    "ExecuteTime": {
     "end_time": "2023-10-22T12:19:02.427662900Z",
     "start_time": "2023-10-22T12:19:02.377711700Z"
    }
   },
   "id": "c46b726c3e509972"
  },
  {
   "cell_type": "code",
   "execution_count": 17,
   "outputs": [],
   "source": [
    "# movie_categories_ts=paddle.to_tensor(train_set_df['categories'].apply(lambda x:eval(x)).apply(lambda x:paddle.to_tensor(x)).tolist())\n",
    "# paddle.save(movie_categories_ts,'../datasets/movie_lens/ml-1m/movie_categories_ts.pdparams')\n"
   ],
   "metadata": {
    "collapsed": false,
    "ExecuteTime": {
     "end_time": "2023-10-22T12:19:02.433270800Z",
     "start_time": "2023-10-22T12:19:02.392340Z"
    }
   },
   "id": "fb6a6fbe0dc170f1"
  },
  {
   "cell_type": "code",
   "execution_count": 18,
   "outputs": [],
   "source": [
    "# movie_id_tensor=paddle.to_tensor(np.array(train_set_df['movie_id']),dtype=paddle.int64)\n",
    "# movie_title_tensor=paddle.load('../datasets/movie_lens/ml-1m/movie_title_ts.pdparams')\n",
    "# movie_title_tensor=paddle.reshape(movie_title_tensor,(len(movie_id_tensor),1,15))\n",
    "# movie_year_tensor=paddle.to_tensor(np.array(train_set_df['year']),dtype=paddle.int64)-1919\n",
    "# movie_categories_tensor=paddle.load('../datasets/movie_lens/ml-1m/movie_categories_ts.pdparams')"
   ],
   "metadata": {
    "collapsed": false,
    "ExecuteTime": {
     "end_time": "2023-10-22T12:19:02.433270800Z",
     "start_time": "2023-10-22T12:19:02.406951500Z"
    }
   },
   "id": "3e17b6b51072f3ca"
  },
  {
   "cell_type": "code",
   "execution_count": 19,
   "outputs": [],
   "source": [
    "# movie_model=MovieLensModel.MovieModel()\n",
    "# movie_feat=movie_model.forward(movie_id_tensor=movie_id_tensor,movie_title_tensor=movie_title_tensor,movie_year_tensor=movie_year_tensor,movie_categories_tensor=movie_categories_tensor)"
   ],
   "metadata": {
    "collapsed": false,
    "ExecuteTime": {
     "end_time": "2023-10-22T12:19:02.447235200Z",
     "start_time": "2023-10-22T12:19:02.423884100Z"
    }
   },
   "id": "7d73ceb0076fe6a2"
  },
  {
   "cell_type": "code",
   "execution_count": 20,
   "outputs": [],
   "source": [
    "# print(f'user features tensor shape: {user_feat.shape}, movie features tensor shape: {movie_feat.shape}')"
   ],
   "metadata": {
    "collapsed": false,
    "ExecuteTime": {
     "end_time": "2023-10-22T12:19:02.454593400Z",
     "start_time": "2023-10-22T12:19:02.438256400Z"
    }
   },
   "id": "b22bf67f7a81a352"
  },
  {
   "cell_type": "code",
   "execution_count": 21,
   "outputs": [
    {
     "name": "stdout",
     "output_type": "stream",
     "text": [
      "[800167]\n",
      "[800167]\n",
      "[800167]\n",
      "[800167]\n",
      "[800167]\n",
      "[800167, 1, 15]\n",
      "[800167]\n",
      "[800167, 6]\n"
     ]
    }
   ],
   "source": [
    "len_data=len(train_set_df)\n",
    "user_id = paddle.to_tensor(np.array(train_set_df['user_id']), dtype=paddle.int64)\n",
    "user_gender = paddle.to_tensor(np.array(train_set_df['gender']), dtype=paddle.int64)\n",
    "user_age = paddle.to_tensor(np.array(train_set_df['age']), dtype=paddle.int64)\n",
    "user_occupation = paddle.to_tensor(np.array(train_set_df['occupation']), dtype=paddle.int64)\n",
    "\n",
    "movie_id=paddle.to_tensor(np.array(train_set_df['movie_id']),dtype=paddle.int64)\n",
    "movie_title=paddle.load('../datasets/movie_lens/ml-1m/movie_title_ts.pdparams')\n",
    "movie_title=paddle.reshape(movie_title,(len(movie_id),1,15)).reshape((len_data,1,15))\n",
    "movie_year=(paddle.to_tensor(np.array(train_set_df['year']),dtype=paddle.int64)-1919)\n",
    "movie_categories=paddle.load('../datasets/movie_lens/ml-1m/movie_categories_ts.pdparams')\n",
    "\n",
    "score_label=paddle.to_tensor(np.array(train_set_df['rating']),dtype=paddle.float32)\n",
    "score_label=paddle.reshape(score_label,(len(score_label),1))\n",
    "print(user_id.shape)\n",
    "print(user_gender.shape)\n",
    "print(user_age.shape)\n",
    "print(user_occupation.shape)\n",
    "print(movie_id.shape)\n",
    "print(movie_title.shape)\n",
    "print(movie_year.shape)\n",
    "print(movie_categories.shape)\n",
    "\n",
    "n_epochs=10\n",
    "batch_size=256\n",
    "paddle.set_device('cpu')\n",
    "model=MovieLensModel.CompleteModel()\n",
    "opt=paddle.optimizer.Adam(learning_rate=0.01,parameters=model.parameters())\n",
    "loss_func=paddle.nn.MSELoss()\n",
    "\n",
    "\n"
   ],
   "metadata": {
    "collapsed": false,
    "ExecuteTime": {
     "end_time": "2023-10-22T12:19:02.579691100Z",
     "start_time": "2023-10-22T12:19:02.454593400Z"
    }
   },
   "id": "4baece8a7247631d"
  },
  {
   "cell_type": "code",
   "execution_count": 22,
   "outputs": [
    {
     "name": "stdout",
     "output_type": "stream",
     "text": [
      "epoch: 0/2, batch: 0/3125,loss: [17.622465]\n",
      "epoch: 0/2, batch: 100/3125,loss: [1.4714952]\n",
      "epoch: 0/2, batch: 200/3125,loss: [1.2150189]\n",
      "epoch: 0/2, batch: 300/3125,loss: [1.1346695]\n",
      "epoch: 0/2, batch: 400/3125,loss: [0.6680589]\n",
      "epoch: 0/2, batch: 500/3125,loss: [1.0519171]\n",
      "epoch: 0/2, batch: 600/3125,loss: [1.3119235]\n",
      "epoch: 0/2, batch: 700/3125,loss: [1.4607856]\n",
      "epoch: 0/2, batch: 800/3125,loss: [1.0134847]\n",
      "epoch: 0/2, batch: 900/3125,loss: [1.4205221]\n",
      "epoch: 0/2, batch: 1000/3125,loss: [1.2047368]\n",
      "epoch: 0/2, batch: 1100/3125,loss: [0.9828074]\n",
      "epoch: 0/2, batch: 1200/3125,loss: [1.2173991]\n",
      "epoch: 0/2, batch: 1300/3125,loss: [1.9711895]\n",
      "epoch: 0/2, batch: 1400/3125,loss: [1.4510564]\n",
      "epoch: 0/2, batch: 1500/3125,loss: [3.3161142]\n",
      "epoch: 0/2, batch: 1600/3125,loss: [1.0366092]\n",
      "epoch: 0/2, batch: 1700/3125,loss: [0.8315417]\n",
      "epoch: 0/2, batch: 1800/3125,loss: [1.155668]\n",
      "epoch: 0/2, batch: 1900/3125,loss: [0.75053084]\n",
      "epoch: 0/2, batch: 2000/3125,loss: [0.6003304]\n",
      "epoch: 0/2, batch: 2100/3125,loss: [1.8468287]\n",
      "epoch: 0/2, batch: 2200/3125,loss: [0.88764715]\n",
      "epoch: 0/2, batch: 2300/3125,loss: [1.2157872]\n",
      "epoch: 0/2, batch: 2400/3125,loss: [1.041272]\n",
      "epoch: 0/2, batch: 2500/3125,loss: [1.6307356]\n",
      "epoch: 0/2, batch: 2600/3125,loss: [1.4540535]\n",
      "epoch: 0/2, batch: 2700/3125,loss: [0.75291747]\n",
      "epoch: 0/2, batch: 2800/3125,loss: [1.9134767]\n",
      "epoch: 0/2, batch: 2900/3125,loss: [1.4654603]\n",
      "epoch: 0/2, batch: 3000/3125,loss: [1.3164473]\n",
      "epoch: 0/2, batch: 3100/3125,loss: [1.0028625]\n",
      "epoch: 1/2, batch: 0/3125,loss: [0.9210863]\n",
      "epoch: 1/2, batch: 100/3125,loss: [1.1620238]\n",
      "epoch: 1/2, batch: 200/3125,loss: [1.1581446]\n",
      "epoch: 1/2, batch: 300/3125,loss: [0.8874414]\n",
      "epoch: 1/2, batch: 400/3125,loss: [0.7660477]\n",
      "epoch: 1/2, batch: 500/3125,loss: [0.97766817]\n",
      "epoch: 1/2, batch: 600/3125,loss: [1.0336106]\n",
      "epoch: 1/2, batch: 700/3125,loss: [1.6568804]\n",
      "epoch: 1/2, batch: 800/3125,loss: [1.0529776]\n",
      "epoch: 1/2, batch: 900/3125,loss: [1.0310352]\n",
      "epoch: 1/2, batch: 1000/3125,loss: [1.1874931]\n",
      "epoch: 1/2, batch: 1100/3125,loss: [1.0213566]\n",
      "epoch: 1/2, batch: 1200/3125,loss: [1.2218845]\n",
      "epoch: 1/2, batch: 1300/3125,loss: [1.873754]\n",
      "epoch: 1/2, batch: 1400/3125,loss: [1.4019746]\n",
      "epoch: 1/2, batch: 1500/3125,loss: [2.907263]\n",
      "epoch: 1/2, batch: 1600/3125,loss: [1.0256224]\n",
      "epoch: 1/2, batch: 1700/3125,loss: [0.8008593]\n",
      "epoch: 1/2, batch: 1800/3125,loss: [1.0242693]\n",
      "epoch: 1/2, batch: 1900/3125,loss: [0.8492401]\n",
      "epoch: 1/2, batch: 2000/3125,loss: [0.5551803]\n",
      "epoch: 1/2, batch: 2100/3125,loss: [1.4041191]\n",
      "epoch: 1/2, batch: 2200/3125,loss: [0.8208388]\n",
      "epoch: 1/2, batch: 2300/3125,loss: [1.0114646]\n",
      "epoch: 1/2, batch: 2400/3125,loss: [1.066948]\n",
      "epoch: 1/2, batch: 2500/3125,loss: [1.2242998]\n",
      "epoch: 1/2, batch: 2600/3125,loss: [1.1015296]\n",
      "epoch: 1/2, batch: 2700/3125,loss: [0.7660382]\n",
      "epoch: 1/2, batch: 2800/3125,loss: [1.8285619]\n",
      "epoch: 1/2, batch: 2900/3125,loss: [1.3242102]\n",
      "epoch: 1/2, batch: 3000/3125,loss: [1.0443239]\n",
      "epoch: 1/2, batch: 3100/3125,loss: [0.99787503]\n"
     ]
    }
   ],
   "source": [
    "n_batches=len_data//batch_size\n",
    "\n",
    "model.train()\n",
    "for epoch in range(n_epochs):\n",
    "    \n",
    "    for i in range(n_batches):\n",
    "        opt.clear_grad()\n",
    "        si=i*batch_size\n",
    "        ei=si+batch_size\n",
    "        target_indice=list(range(si,ei))\n",
    "        \n",
    "        pred=model.forward(user_id[si:ei],user_gender[si:ei],user_age[si:ei],user_occupation[si:ei],movie_id[si:ei],movie_title[si:ei],movie_year[si:ei],movie_categories[si:ei])\n",
    "        loss=loss_func(pred,score_label[si:ei])\n",
    "        loss.backward()\n",
    "        \n",
    "        opt.step()\n",
    "        \n",
    "        if i%100==0:\n",
    "            print(f'epoch: {epoch}/{n_epochs}, batch: {i}/{n_batches},loss: {loss.numpy()}')\n",
    "\n",
    "\n",
    "        \n",
    "        \n",
    "        \n",
    "        \n",
    "        "
   ],
   "metadata": {
    "collapsed": false,
    "ExecuteTime": {
     "end_time": "2023-10-22T12:20:47.380605300Z",
     "start_time": "2023-10-22T12:19:02.582680700Z"
    }
   },
   "id": "bb73f442d26c70d1"
  },
  {
   "cell_type": "code",
   "execution_count": 32,
   "outputs": [],
   "source": [
    "paddle.save(model.state_dict(),'../datasets/movie_lens/ml-1m/model_state.pdparams')"
   ],
   "metadata": {
    "collapsed": false,
    "ExecuteTime": {
     "end_time": "2023-10-22T16:16:23.593184200Z",
     "start_time": "2023-10-22T16:16:23.572768300Z"
    }
   },
   "id": "580e40697a59788f"
  }
 ],
 "metadata": {
  "kernelspec": {
   "display_name": "Python 3",
   "language": "python",
   "name": "python3"
  },
  "language_info": {
   "codemirror_mode": {
    "name": "ipython",
    "version": 2
   },
   "file_extension": ".py",
   "mimetype": "text/x-python",
   "name": "python",
   "nbconvert_exporter": "python",
   "pygments_lexer": "ipython2",
   "version": "2.7.6"
  }
 },
 "nbformat": 4,
 "nbformat_minor": 5
}
